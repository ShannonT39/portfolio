{
 "cells": [
  {
   "cell_type": "code",
   "execution_count": 1,
   "id": "d2617c25-780e-4880-a668-311620d95151",
   "metadata": {
    "tags": []
   },
   "outputs": [],
   "source": [
    "import pandas as pd\n",
    "import numpy as np\n",
    "from matplotlib import pyplot as plt\n",
    "import seaborn as sns\n",
    "from sklearn.datasets import make_classification\n",
    "from sklearn.metrics import confusion_matrix, ConfusionMatrixDisplay\n",
    "from sklearn.svm import SVC\n",
    "import os \n",
    "import csv\n",
    "import tensorflow as tf\n",
    "import pandas as pd\n",
    "import nltk\n",
    "from nltk.tokenize import word_tokenize\n",
    "import re\n",
    "import emoji\n",
    "from keras.preprocessing.text import Tokenizer\n",
    "import random\n",
    "import nltk\n",
    "from nltk.corpus import stopwords\n",
    "from nltk.stem import WordNetLemmatizer\n",
    "from tensorflow.keras.preprocessing.sequence import pad_sequences\n",
    "from tensorflow.keras.callbacks import EarlyStopping\n",
    "from sklearn.model_selection import train_test_split\n",
    "from keras.models import Sequential\n",
    "from keras.layers import Embedding, GlobalAveragePooling1D, Dense\n",
    "from keras import backend\n",
    "import tensorflow as tf\n",
    "import string\n",
    "from collections import Counter"
   ]
  },
  {
   "cell_type": "code",
   "execution_count": 2,
   "id": "7ec1104a-dfd7-4492-a3f1-6e83e84da8d1",
   "metadata": {
    "tags": []
   },
   "outputs": [],
   "source": [
    "with open('amazon_cells_labelled.txt', 'r') as txt_file:\n",
    "    lines = txt_file.readlines()"
   ]
  },
  {
   "cell_type": "code",
   "execution_count": 3,
   "id": "d13fb7f1-7ec8-49c6-82bb-73dc09e57bf7",
   "metadata": {
    "tags": []
   },
   "outputs": [],
   "source": [
    "delimiter = '\\t'  # Change this to the actual delimiter in your text file\n",
    "data = [line.strip().split(delimiter) for line in lines]"
   ]
  },
  {
   "cell_type": "code",
   "execution_count": 4,
   "id": "83df160e-639b-48f2-95db-11278503c7a4",
   "metadata": {
    "tags": []
   },
   "outputs": [],
   "source": [
    "header = ['Review', 'Sentiment'] "
   ]
  },
  {
   "cell_type": "code",
   "execution_count": 5,
   "id": "00d622ad-0185-42f7-b174-247600e5b2f8",
   "metadata": {
    "tags": []
   },
   "outputs": [],
   "source": [
    "with open('amazon.csv', 'w', newline='') as csv_file:\n",
    "    csv_writer = csv.writer(csv_file)\n",
    "    \n",
    "    # Write the header row\n",
    "    csv_writer.writerow(header)\n",
    "    \n",
    "    # Write the data rows\n",
    "    for row in data:\n",
    "        csv_writer.writerow(row)"
   ]
  },
  {
   "cell_type": "code",
   "execution_count": 6,
   "id": "970696f4-bb51-4290-ae57-1270f740981f",
   "metadata": {
    "tags": []
   },
   "outputs": [],
   "source": [
    "df=pd.read_csv('amazon.csv')"
   ]
  },
  {
   "cell_type": "code",
   "execution_count": 7,
   "id": "03223f26-7f7b-4635-a53a-94d36706d153",
   "metadata": {
    "tags": []
   },
   "outputs": [
    {
     "data": {
      "text/plain": [
       "(1000, 2)"
      ]
     },
     "execution_count": 7,
     "metadata": {},
     "output_type": "execute_result"
    }
   ],
   "source": [
    "df.shape"
   ]
  },
  {
   "cell_type": "code",
   "execution_count": 8,
   "id": "30e56a6a-59b5-475e-b5d7-d18d55fb6f7b",
   "metadata": {
    "tags": []
   },
   "outputs": [
    {
     "name": "stdout",
     "output_type": "stream",
     "text": [
      "<class 'pandas.core.frame.DataFrame'>\n",
      "RangeIndex: 1000 entries, 0 to 999\n",
      "Data columns (total 2 columns):\n",
      " #   Column     Non-Null Count  Dtype \n",
      "---  ------     --------------  ----- \n",
      " 0   Review     1000 non-null   object\n",
      " 1   Sentiment  1000 non-null   int64 \n",
      "dtypes: int64(1), object(1)\n",
      "memory usage: 15.8+ KB\n"
     ]
    }
   ],
   "source": [
    "df.info()"
   ]
  },
  {
   "cell_type": "code",
   "execution_count": 9,
   "id": "e8d449f5-317c-4697-a031-2e48737fb04e",
   "metadata": {
    "tags": []
   },
   "outputs": [
    {
     "data": {
      "text/html": [
       "<div>\n",
       "<style scoped>\n",
       "    .dataframe tbody tr th:only-of-type {\n",
       "        vertical-align: middle;\n",
       "    }\n",
       "\n",
       "    .dataframe tbody tr th {\n",
       "        vertical-align: top;\n",
       "    }\n",
       "\n",
       "    .dataframe thead th {\n",
       "        text-align: right;\n",
       "    }\n",
       "</style>\n",
       "<table border=\"1\" class=\"dataframe\">\n",
       "  <thead>\n",
       "    <tr style=\"text-align: right;\">\n",
       "      <th></th>\n",
       "      <th>Sentiment</th>\n",
       "    </tr>\n",
       "  </thead>\n",
       "  <tbody>\n",
       "    <tr>\n",
       "      <th>count</th>\n",
       "      <td>1000.00000</td>\n",
       "    </tr>\n",
       "    <tr>\n",
       "      <th>mean</th>\n",
       "      <td>0.50000</td>\n",
       "    </tr>\n",
       "    <tr>\n",
       "      <th>std</th>\n",
       "      <td>0.50025</td>\n",
       "    </tr>\n",
       "    <tr>\n",
       "      <th>min</th>\n",
       "      <td>0.00000</td>\n",
       "    </tr>\n",
       "    <tr>\n",
       "      <th>25%</th>\n",
       "      <td>0.00000</td>\n",
       "    </tr>\n",
       "    <tr>\n",
       "      <th>50%</th>\n",
       "      <td>0.50000</td>\n",
       "    </tr>\n",
       "    <tr>\n",
       "      <th>75%</th>\n",
       "      <td>1.00000</td>\n",
       "    </tr>\n",
       "    <tr>\n",
       "      <th>max</th>\n",
       "      <td>1.00000</td>\n",
       "    </tr>\n",
       "  </tbody>\n",
       "</table>\n",
       "</div>"
      ],
      "text/plain": [
       "        Sentiment\n",
       "count  1000.00000\n",
       "mean      0.50000\n",
       "std       0.50025\n",
       "min       0.00000\n",
       "25%       0.00000\n",
       "50%       0.50000\n",
       "75%       1.00000\n",
       "max       1.00000"
      ]
     },
     "execution_count": 9,
     "metadata": {},
     "output_type": "execute_result"
    }
   ],
   "source": [
    "df.describe()"
   ]
  },
  {
   "cell_type": "code",
   "execution_count": 10,
   "id": "512482f3-ec92-47e0-87c0-e6e030e5b269",
   "metadata": {
    "tags": []
   },
   "outputs": [
    {
     "data": {
      "text/plain": [
       "0    500\n",
       "1    500\n",
       "Name: Sentiment, dtype: int64"
      ]
     },
     "execution_count": 10,
     "metadata": {},
     "output_type": "execute_result"
    }
   ],
   "source": [
    "df['Sentiment'].value_counts()"
   ]
  },
  {
   "cell_type": "code",
   "execution_count": 11,
   "id": "e0fcb7e7-2edd-494e-aa6b-18ac6b84c458",
   "metadata": {
    "tags": []
   },
   "outputs": [
    {
     "data": {
      "text/plain": [
       "Review       0\n",
       "Sentiment    0\n",
       "dtype: int64"
      ]
     },
     "execution_count": 11,
     "metadata": {},
     "output_type": "execute_result"
    }
   ],
   "source": [
    "df.isna().sum()"
   ]
  },
  {
   "cell_type": "code",
   "execution_count": 12,
   "id": "6bcf1f9a-529e-402f-86b1-6039fc13bc72",
   "metadata": {
    "tags": []
   },
   "outputs": [],
   "source": [
    "text_data = df['Review'].astype(str)"
   ]
  },
  {
   "cell_type": "code",
   "execution_count": 13,
   "id": "c165cfb3-b0a7-44fe-949b-3cbfb2b5a78d",
   "metadata": {
    "tags": []
   },
   "outputs": [],
   "source": [
    "# Function to clean and preprocess text\n",
    "def clean_text(text):\n",
    "    # Remove special characters and punctuation\n",
    "    text = re.sub(r'[^\\w\\s]', '', text)\n",
    "    # Remove numbers\n",
    "    text = re.sub(r'\\d', '', text)\n",
    "    # Convert text to lowercase\n",
    "    text = text.lower()\n",
    "    return text"
   ]
  },
  {
   "cell_type": "code",
   "execution_count": 14,
   "id": "53aeba13-3122-4f82-8b5d-64902a57b9a1",
   "metadata": {
    "tags": []
   },
   "outputs": [],
   "source": [
    "# Apply text cleaning to the 'text' column\n",
    "df['Clean_Review'] = df['Review'].apply(clean_text)"
   ]
  },
  {
   "cell_type": "code",
   "execution_count": 15,
   "id": "2708b75b-6521-496d-9b05-df53054139ce",
   "metadata": {
    "tags": []
   },
   "outputs": [],
   "source": [
    "# Function to check for unusual characters (e.g., emojis, non-English characters)\n",
    "def has_unusual_characters(text):\n",
    "    for char in text:\n",
    "        if char not in string.printable:\n",
    "            return True\n",
    "    return False\n"
   ]
  },
  {
   "cell_type": "code",
   "execution_count": 16,
   "id": "355b0beb-6169-4567-a935-f5ff9fee0275",
   "metadata": {
    "tags": []
   },
   "outputs": [],
   "source": [
    "# Check if any rows contain unusual characters\n",
    "df['has_unusual_chars'] = df['Clean_Review'].apply(has_unusual_characters)"
   ]
  },
  {
   "cell_type": "code",
   "execution_count": 17,
   "id": "40265693-4c6b-407d-9512-dc24786c058b",
   "metadata": {
    "tags": []
   },
   "outputs": [],
   "source": [
    "# Count vocabulary size\n",
    "all_text = ' '.join(df['Clean_Review'])\n",
    "words = all_text.split()\n",
    "vocabulary_size = len(Counter(words))"
   ]
  },
  {
   "cell_type": "code",
   "execution_count": 18,
   "id": "016d9407-63da-4af3-956e-029e3428b8e5",
   "metadata": {
    "tags": []
   },
   "outputs": [],
   "source": [
    "# Tokenize the text data into individual words\n",
    "tokens = [word_tokenize(text) for text in text_data]"
   ]
  },
  {
   "cell_type": "code",
   "execution_count": 19,
   "id": "62ca90a7-bb3c-4f7f-97f4-43b5a6feb43c",
   "metadata": {
    "tags": []
   },
   "outputs": [],
   "source": [
    "# Flatten the list of tokens into a single list\n",
    "all_words = [word for sublist in tokens for word in sublist]"
   ]
  },
  {
   "cell_type": "code",
   "execution_count": 20,
   "id": "f3b2eda9-3c18-4e1c-a4ac-70cc7733cfbf",
   "metadata": {
    "tags": []
   },
   "outputs": [],
   "source": [
    "# Get the unique words (vocabulary)\n",
    "vocabulary = set(all_words)"
   ]
  },
  {
   "cell_type": "code",
   "execution_count": 21,
   "id": "c079dc74-b802-4d16-905f-68eebd120c1a",
   "metadata": {
    "tags": []
   },
   "outputs": [
    {
     "name": "stdout",
     "output_type": "stream",
     "text": [
      "Vocabulary Size: 2235\n"
     ]
    }
   ],
   "source": [
    "# Calculate the vocabulary size\n",
    "vocabulary_size = len(vocabulary) \n",
    "print(\"Vocabulary Size:\", vocabulary_size)"
   ]
  },
  {
   "cell_type": "code",
   "execution_count": 22,
   "id": "04db745a-61d3-4ef1-8baf-9f085dcff03d",
   "metadata": {
    "tags": []
   },
   "outputs": [
    {
     "name": "stdout",
     "output_type": "stream",
     "text": [
      "['S', 'o', ' ', 't', 'h', 'e', 'r', 'i', 's', 'n', 'w', 'a', 'y', 'f', 'm', 'p', 'l', 'u', 'g', 'U', 'I', 'b', 'c', 'v', '.', 'G', 'd', ',', 'E', 'x', 'j', 'T', '4', '5', 'M', 'A', 'J', 'O', 'R', 'P', 'B', 'L', '!', 'z', 'N', 'W', 'q', 'H', '+', 'V', '\"', 'Y', 'D', 'F', 'k', \"'\", 'K', 'C', '/', '7', '3', '6', '8', '0', '2', '?', 'Z', '-', '1', ':', ')', '(', 'Q', '&', '$', '*', ';', 'X', '%', '9', '#', '[', ']']\n"
     ]
    }
   ],
   "source": [
    "commentary = df['Review']\n",
    "list_of_char = []\n",
    "for comment in commentary:\n",
    "    for char in comment:\n",
    "        if char not in list_of_char:\n",
    "            list_of_char.append(char)\n",
    "print(list_of_char)"
   ]
  },
  {
   "cell_type": "code",
   "execution_count": 23,
   "id": "e872e9b0-54ca-46f6-be64-0758f03ac2d6",
   "metadata": {
    "tags": []
   },
   "outputs": [],
   "source": [
    "reviews = df['Review']\n",
    "\n",
    "alpha_chars = set()\n",
    "num_chars = set()\n",
    "nonal_num_chars = set()\n",
    "\n",
    "for review in reviews:\n",
    "    tokens = word_tokenize(review.lower())\n",
    "    for token in tokens:\n",
    "        for char in token:\n",
    "            if re.match(r'[a-zA-Z]', char):\n",
    "                alpha_chars.add(char)\n",
    "            elif re.match(r'[0-9]', char):\n",
    "                num_chars.add(char)\n",
    "            else:\n",
    "                nonal_num_chars.add(char)"
   ]
  },
  {
   "cell_type": "code",
   "execution_count": 24,
   "id": "518ce829-21c5-4fb3-88d6-3880ce8e159a",
   "metadata": {
    "tags": []
   },
   "outputs": [
    {
     "name": "stdout",
     "output_type": "stream",
     "text": [
      "Alpha Characters:\n",
      "{'j', 'a', 'o', 'w', 'i', 'v', 'y', 'k', 'l', 'e', 's', 'x', 'b', 'h', 'g', 't', 'q', 'f', 'z', 'u', 'n', 'm', 'r', 'd', 'c', 'p'}\n",
      "Total of 26 unique English letters in this dataset\n",
      "\n",
      "Numeric Characters:\n",
      "{'4', '7', '9', '2', '3', '6', '0', '5', '8', '1'}\n",
      "Total of 10 unique numerical characters in this dataset\n",
      "\n",
      "Non-alphanumeric characters:\n",
      "{'+', '?', '$', '!', ',', '(', \"'\", ':', '`', ')', '.', '%', '[', ']', ';', '*', '#', '-', '&', '/'}\n",
      "Total of 20 unique special characters in this dataset\n"
     ]
    }
   ],
   "source": [
    "print('Alpha Characters:')\n",
    "print(alpha_chars)\n",
    "print('Total of', len(alpha_chars), 'unique English letters in this dataset\\n')\n",
    "\n",
    "print('Numeric Characters:')\n",
    "print(num_chars)\n",
    "print('Total of', len(num_chars), 'unique numerical characters in this dataset\\n')\n",
    "\n",
    "print('Non-alphanumeric characters:')\n",
    "print(nonal_num_chars)\n",
    "print('Total of', len(nonal_num_chars), 'unique special characters in this dataset')"
   ]
  },
  {
   "cell_type": "code",
   "execution_count": 25,
   "id": "cc34f67a-9c7e-41ae-8484-e64ad033c7be",
   "metadata": {
    "tags": []
   },
   "outputs": [
    {
     "name": "stdout",
     "output_type": "stream",
     "text": [
      "False    1000\n",
      "Name: emoji, dtype: int64\n"
     ]
    }
   ],
   "source": [
    "def checkEmoji(text):\n",
    "    has_emoji = any(emoji.is_emoji(char) for char in text)\n",
    "    return has_emoji\n",
    "\n",
    "df[\"emoji\"] = df['Review'].apply(lambda x: checkEmoji(x))\n",
    "\n",
    "emoji_counts = df['emoji'].value_counts()\n",
    "print(emoji_counts)"
   ]
  },
  {
   "cell_type": "code",
   "execution_count": 26,
   "id": "7bc13cb4-9be1-4a59-8030-ff75afbc82b2",
   "metadata": {
    "tags": []
   },
   "outputs": [],
   "source": [
    "# Tokenize the text data\n",
    "tokenizer = Tokenizer()\n",
    "tokenizer.fit_on_texts(df['Review'])\n",
    "sequences = tokenizer.texts_to_sequences(df['Review'])"
   ]
  },
  {
   "cell_type": "code",
   "execution_count": 27,
   "id": "0b986aa7-8f49-42df-94d6-88780c3d70c0",
   "metadata": {
    "tags": []
   },
   "outputs": [
    {
     "data": {
      "text/html": [
       "<div>\n",
       "<style scoped>\n",
       "    .dataframe tbody tr th:only-of-type {\n",
       "        vertical-align: middle;\n",
       "    }\n",
       "\n",
       "    .dataframe tbody tr th {\n",
       "        vertical-align: top;\n",
       "    }\n",
       "\n",
       "    .dataframe thead th {\n",
       "        text-align: right;\n",
       "    }\n",
       "</style>\n",
       "<table border=\"1\" class=\"dataframe\">\n",
       "  <thead>\n",
       "    <tr style=\"text-align: right;\">\n",
       "      <th></th>\n",
       "      <th>Review</th>\n",
       "      <th>Sentiment</th>\n",
       "      <th>Clean_Review</th>\n",
       "      <th>has_unusual_chars</th>\n",
       "      <th>emoji</th>\n",
       "    </tr>\n",
       "  </thead>\n",
       "  <tbody>\n",
       "    <tr>\n",
       "      <th>0</th>\n",
       "      <td>So there is no way for me to plug it in here i...</td>\n",
       "      <td>0</td>\n",
       "      <td>so there is no way for me to plug it in here i...</td>\n",
       "      <td>False</td>\n",
       "      <td>False</td>\n",
       "    </tr>\n",
       "    <tr>\n",
       "      <th>1</th>\n",
       "      <td>Good case, Excellent value.</td>\n",
       "      <td>1</td>\n",
       "      <td>good case excellent value</td>\n",
       "      <td>False</td>\n",
       "      <td>False</td>\n",
       "    </tr>\n",
       "    <tr>\n",
       "      <th>2</th>\n",
       "      <td>Great for the jawbone.</td>\n",
       "      <td>1</td>\n",
       "      <td>great for the jawbone</td>\n",
       "      <td>False</td>\n",
       "      <td>False</td>\n",
       "    </tr>\n",
       "    <tr>\n",
       "      <th>3</th>\n",
       "      <td>Tied to charger for conversations lasting more...</td>\n",
       "      <td>0</td>\n",
       "      <td>tied to charger for conversations lasting more...</td>\n",
       "      <td>False</td>\n",
       "      <td>False</td>\n",
       "    </tr>\n",
       "    <tr>\n",
       "      <th>4</th>\n",
       "      <td>The mic is great.</td>\n",
       "      <td>1</td>\n",
       "      <td>the mic is great</td>\n",
       "      <td>False</td>\n",
       "      <td>False</td>\n",
       "    </tr>\n",
       "  </tbody>\n",
       "</table>\n",
       "</div>"
      ],
      "text/plain": [
       "                                              Review  Sentiment  \\\n",
       "0  So there is no way for me to plug it in here i...          0   \n",
       "1                        Good case, Excellent value.          1   \n",
       "2                             Great for the jawbone.          1   \n",
       "3  Tied to charger for conversations lasting more...          0   \n",
       "4                                  The mic is great.          1   \n",
       "\n",
       "                                        Clean_Review  has_unusual_chars  emoji  \n",
       "0  so there is no way for me to plug it in here i...              False  False  \n",
       "1                          good case excellent value              False  False  \n",
       "2                              great for the jawbone              False  False  \n",
       "3  tied to charger for conversations lasting more...              False  False  \n",
       "4                                   the mic is great              False  False  "
      ]
     },
     "execution_count": 27,
     "metadata": {},
     "output_type": "execute_result"
    }
   ],
   "source": [
    "df.head()"
   ]
  },
  {
   "cell_type": "code",
   "execution_count": 28,
   "id": "5af79de6-47cb-4522-b4d6-ff78a10bc7fc",
   "metadata": {
    "tags": []
   },
   "outputs": [],
   "source": [
    "df = df.drop(['Review', 'has_unusual_chars'], axis=1)"
   ]
  },
  {
   "cell_type": "code",
   "execution_count": 29,
   "id": "021ac96a-ae24-4e53-a8b9-fb0f0fd5718a",
   "metadata": {
    "tags": []
   },
   "outputs": [
    {
     "data": {
      "text/html": [
       "<div>\n",
       "<style scoped>\n",
       "    .dataframe tbody tr th:only-of-type {\n",
       "        vertical-align: middle;\n",
       "    }\n",
       "\n",
       "    .dataframe tbody tr th {\n",
       "        vertical-align: top;\n",
       "    }\n",
       "\n",
       "    .dataframe thead th {\n",
       "        text-align: right;\n",
       "    }\n",
       "</style>\n",
       "<table border=\"1\" class=\"dataframe\">\n",
       "  <thead>\n",
       "    <tr style=\"text-align: right;\">\n",
       "      <th></th>\n",
       "      <th>Sentiment</th>\n",
       "      <th>Clean_Review</th>\n",
       "      <th>emoji</th>\n",
       "    </tr>\n",
       "  </thead>\n",
       "  <tbody>\n",
       "    <tr>\n",
       "      <th>0</th>\n",
       "      <td>0</td>\n",
       "      <td>so there is no way for me to plug it in here i...</td>\n",
       "      <td>False</td>\n",
       "    </tr>\n",
       "    <tr>\n",
       "      <th>1</th>\n",
       "      <td>1</td>\n",
       "      <td>good case excellent value</td>\n",
       "      <td>False</td>\n",
       "    </tr>\n",
       "    <tr>\n",
       "      <th>2</th>\n",
       "      <td>1</td>\n",
       "      <td>great for the jawbone</td>\n",
       "      <td>False</td>\n",
       "    </tr>\n",
       "    <tr>\n",
       "      <th>3</th>\n",
       "      <td>0</td>\n",
       "      <td>tied to charger for conversations lasting more...</td>\n",
       "      <td>False</td>\n",
       "    </tr>\n",
       "    <tr>\n",
       "      <th>4</th>\n",
       "      <td>1</td>\n",
       "      <td>the mic is great</td>\n",
       "      <td>False</td>\n",
       "    </tr>\n",
       "  </tbody>\n",
       "</table>\n",
       "</div>"
      ],
      "text/plain": [
       "   Sentiment                                       Clean_Review  emoji\n",
       "0          0  so there is no way for me to plug it in here i...  False\n",
       "1          1                          good case excellent value  False\n",
       "2          1                              great for the jawbone  False\n",
       "3          0  tied to charger for conversations lasting more...  False\n",
       "4          1                                   the mic is great  False"
      ]
     },
     "execution_count": 29,
     "metadata": {},
     "output_type": "execute_result"
    }
   ],
   "source": [
    "df.head()"
   ]
  },
  {
   "cell_type": "code",
   "execution_count": 30,
   "id": "165ab77f-8c84-43a0-8a7c-3af0f1ec7e30",
   "metadata": {},
   "outputs": [],
   "source": [
    "df.to_csv('clean data.csv', index=False)"
   ]
  },
  {
   "cell_type": "code",
   "execution_count": 31,
   "id": "8e2437a6-dbaa-4362-9848-96f19ce7e051",
   "metadata": {
    "tags": []
   },
   "outputs": [
    {
     "name": "stdout",
     "output_type": "stream",
     "text": [
      "Max Sequence Length 30\n"
     ]
    }
   ],
   "source": [
    "# Get the maximum sequence length\n",
    "max_sequence_length = max(len(seq) for seq in sequences)\n",
    "print(\"Max Sequence Length\", max_sequence_length)"
   ]
  },
  {
   "cell_type": "code",
   "execution_count": 32,
   "id": "30f7c783-2f0a-4fd2-a0e7-4c8f8ac34ff9",
   "metadata": {
    "tags": []
   },
   "outputs": [
    {
     "name": "stdout",
     "output_type": "stream",
     "text": [
      "Proposed Embedding Length 3\n"
     ]
    }
   ],
   "source": [
    "# Set the proposed word embedding length\n",
    "proposed_embedding_length = int(np.ceil(max_sequence_length * 0.1))\n",
    "\n",
    "print(\"Proposed Embedding Length\", proposed_embedding_length)"
   ]
  },
  {
   "cell_type": "code",
   "execution_count": 33,
   "id": "7e9e982a-5e84-45a9-9dea-a388110f88b6",
   "metadata": {
    "tags": []
   },
   "outputs": [],
   "source": [
    "# Calculate sequence lengths\n",
    "sequence_lengths = [len(word_tokenize(review)) for review in review]"
   ]
  },
  {
   "cell_type": "code",
   "execution_count": 34,
   "id": "07ed746f-57f0-4c3a-9066-898a3a6b7a0d",
   "metadata": {
    "tags": []
   },
   "outputs": [
    {
     "data": {
      "image/png": "[encoded data removed]",
      "text/plain": [
       "<Figure size 640x480 with 1 Axes>"
      ]
     },
     "metadata": {},
     "output_type": "display_data"
    }
   ],
   "source": [
    "# Plot the distribution of sequence lengths\n",
    "plt.hist(sequence_lengths, bins='auto')\n",
    "plt.xlabel('Sequence Length')\n",
    "plt.ylabel('Frequency')\n",
    "plt.title('Distribution of Sequence Lengths')\n",
    "plt.show()"
   ]
  },
  {
   "cell_type": "code",
   "execution_count": 35,
   "id": "140b61dd-9daf-4f11-9884-7ad98cd09f4f",
   "metadata": {
    "tags": []
   },
   "outputs": [
    {
     "name": "stdout",
     "output_type": "stream",
     "text": [
      "Maximum Sequence Length: 30\n",
      "Median Sequence Length: 9.0\n",
      "Minimum Sequence Length: 1\n"
     ]
    }
   ],
   "source": [
    "# Calculate the lengths of all sequences\n",
    "sequence_lengths = [len(seq) for seq in sequences]\n",
    "\n",
    "# Maximum sequence length\n",
    "max_sequence_length = np.max(sequence_lengths)\n",
    "\n",
    "# Median sequence length\n",
    "median_sequence_length = np.median(sequence_lengths)\n",
    "\n",
    "# Minimum sequence length\n",
    "min_sequence_length = np.min(sequence_lengths)\n",
    "\n",
    "print(\"Maximum Sequence Length:\", max_sequence_length)\n",
    "print(\"Median Sequence Length:\", median_sequence_length)\n",
    "print(\"Minimum Sequence Length:\", min_sequence_length)"
   ]
  },
  {
   "cell_type": "code",
   "execution_count": 36,
   "id": "da8517c3-d0d3-41bb-ad92-13694553bd29",
   "metadata": {
    "tags": []
   },
   "outputs": [
    {
     "name": "stdout",
     "output_type": "stream",
     "text": [
      "['reception', 'headset', 'excellent']\n"
     ]
    }
   ],
   "source": [
    "rev_list = []\n",
    "rev_len = []\n",
    "stop_words = stopwords.words('english')\n",
    "\n",
    "for review in df.Clean_Review:\n",
    "    review = re.sub(\"[^a-zA-Z\\s]\", \"\", review)\n",
    "    review = review.lower()\n",
    "    review = nltk.word_tokenize(review)\n",
    "    review = [word for word in review if not word in stop_words]\n",
    "    lemma = WordNetLemmatizer()\n",
    "    review = [lemma.lemmatize(word) for word in review]\n",
    "    length = len(review)\n",
    "    rev_len.append(length)\n",
    "    rev_list.append(review)\n",
    "\n",
    "n = random.randint(0, len(rev_list))\n",
    "rev_list = np.asarray(rev_list, dtype=object)\n",
    "print(rev_list[n])"
   ]
  },
  {
   "cell_type": "code",
   "execution_count": 37,
   "id": "2ac0a6a9-7018-4da4-8630-9739acb3b8c5",
   "metadata": {
    "tags": []
   },
   "outputs": [],
   "source": [
    "tokenizer = Tokenizer(lower=True)\n",
    "tokenizer.fit_on_texts(rev_list)\n",
    "word_index = tokenizer.word_index\n",
    "word_counts = list(tokenizer.word_counts.items())\n",
    "word_counts.sort(key=lambda y: y[1], reverse=True)\n",
    "vocab_size = len(tokenizer.word_index)+1\n",
    "\n",
    "max_seq_emb = int(round(vocab_size ** (1/4))) #, 0))\n",
    "max_len = len(max(rev_list, key=len))\n",
    "\n",
    "sequence = tokenizer.texts_to_sequences(rev_list)"
   ]
  },
  {
   "cell_type": "code",
   "execution_count": 38,
   "id": "00e68128-f205-4ab0-9f3d-544edea77828",
   "metadata": {
    "tags": []
   },
   "outputs": [
    {
     "name": "stdout",
     "output_type": "stream",
     "text": [
      "[[ 11  47   8 ... 190   6 812]\n",
      " [ 21  48  54 ...   0   0   0]\n",
      " [ 16  11   1 ...   0   0   0]\n",
      " ...\n",
      " [ 90  61  13 ...   0   0   0]\n",
      " [  1  68 139 ...   0   0   0]\n",
      " [ 23  87  13 ...   0   0   0]]\n"
     ]
    }
   ],
   "source": [
    "# Pad sequences\n",
    "padded_sequences = pad_sequences(sequences, maxlen=max_len, padding='post')\n",
    "\n",
    "print(padded_sequences)"
   ]
  },
  {
   "cell_type": "code",
   "execution_count": 39,
   "id": "7365b310-99c3-40ff-868a-4ac2c7be7196",
   "metadata": {
    "tags": []
   },
   "outputs": [
    {
     "name": "stdout",
     "output_type": "stream",
     "text": [
      "Vocabulary size:  1626\n",
      "max sequence embed:  6\n",
      "max review length:  16\n"
     ]
    }
   ],
   "source": [
    "print('Vocabulary size: ',vocab_size)\n",
    "print('max sequence embed: ', max_seq_emb)\n",
    "print('max review length: ', max_len)"
   ]
  },
  {
   "cell_type": "code",
   "execution_count": 40,
   "id": "93a62ca6-fbe8-4219-ace6-266f35ee7c18",
   "metadata": {
    "tags": []
   },
   "outputs": [
    {
     "name": "stdout",
     "output_type": "stream",
     "text": [
      "Original Review:\n",
      "\" i was not impressed by this product \"\n",
      "------------------\n",
      "\n",
      "Review split, lemmatized, and stop words removed:\n",
      "['impressed', 'product']\n",
      "------------------\n",
      "\n",
      "Review tokenized, sequenced, and padded:\n",
      "[  2  17  13 173 190   7  24   0   0   0   0   0   0   0   0   0]\n"
     ]
    }
   ],
   "source": [
    "n = random.randint(0, len(rev_list))\n",
    "print('Original Review:')\n",
    "print('\"', df.Clean_Review[n], '\"')\n",
    "print('------------------')\n",
    "print('')\n",
    "\n",
    "print('Review split, lemmatized, and stop words removed:')\n",
    "print(rev_list[n])\n",
    "print('------------------')\n",
    "print('')\n",
    "\n",
    "print('Review tokenized, sequenced, and padded:')\n",
    "print(padded_sequences[n])"
   ]
  },
  {
   "cell_type": "code",
   "execution_count": 41,
   "id": "e8eb87ee-a1dd-4a70-9172-a682d20a68fa",
   "metadata": {
    "tags": []
   },
   "outputs": [
    {
     "name": "stdout",
     "output_type": "stream",
     "text": [
      "Number of sentiment categories: 2\n"
     ]
    }
   ],
   "source": [
    "num_classes = 2  # Two categories: positive/negative\n",
    "\n",
    "model = tf.keras.Sequential([\n",
    "    \n",
    "    tf.keras.layers.Dense(num_classes, activation='sigmoid')\n",
    "    \n",
    "])\n",
    "\n",
    "print(\"Number of sentiment categories:\", num_classes)"
   ]
  },
  {
   "cell_type": "code",
   "execution_count": 42,
   "id": "65b4767d-d508-4a2d-8808-fcb333aa388f",
   "metadata": {
    "tags": []
   },
   "outputs": [
    {
     "name": "stdout",
     "output_type": "stream",
     "text": [
      "Model: \"sequential\"\n",
      "_________________________________________________________________\n",
      " Layer (type)                Output Shape              Param #   \n",
      "=================================================================\n",
      " embedding (Embedding)       (None, None, 6)           9756      \n",
      "                                                                 \n",
      " global_average_pooling1d (  (None, 6)                 0         \n",
      " GlobalAveragePooling1D)                                         \n",
      "                                                                 \n",
      " dense (Dense)               (None, 50)                350       \n",
      "                                                                 \n",
      " dense_1 (Dense)             (None, 1)                 51        \n",
      "                                                                 \n",
      "=================================================================\n",
      "Total params: 10157 (39.68 KB)\n",
      "Trainable params: 10157 (39.68 KB)\n",
      "Non-trainable params: 0 (0.00 Byte)\n",
      "_________________________________________________________________\n"
     ]
    }
   ],
   "source": [
    "backend.clear_session()\n",
    "\n",
    "model = Sequential()\n",
    "model.add(Embedding(vocab_size, max_seq_emb))\n",
    "model.add(GlobalAveragePooling1D())\n",
    "model.add(Dense(50, activation=\"sigmoid\"))\n",
    "model.add(Dense(1, activation=\"sigmoid\"))\n",
    "\n",
    "model.compile(loss='binary_crossentropy',\n",
    "              optimizer='adam',\n",
    "              metrics=['accuracy'])\n",
    "\n",
    "model.summary()"
   ]
  },
  {
   "cell_type": "code",
   "execution_count": 43,
   "id": "cc17fc1d-71bf-4ef0-9063-c4f4760a4d10",
   "metadata": {
    "tags": []
   },
   "outputs": [
    {
     "data": {
      "text/plain": [
       "array([[ 11,  47,   8, ..., 190,   6, 812],\n",
       "       [ 21,  48,  54, ...,   0,   0,   0],\n",
       "       [ 16,  11,   1, ...,   0,   0,   0],\n",
       "       ...,\n",
       "       [ 90,  61,  13, ...,   0,   0,   0],\n",
       "       [  1,  68, 139, ...,   0,   0,   0],\n",
       "       [ 23,  87,  13, ...,   0,   0,   0]])"
      ]
     },
     "execution_count": 43,
     "metadata": {},
     "output_type": "execute_result"
    }
   ],
   "source": [
    "X = padded_sequences\n",
    "X"
   ]
  },
  {
   "cell_type": "code",
   "execution_count": 44,
   "id": "e2bdb1e8-e1ec-4ff7-a4c5-de1ac2c2ef25",
   "metadata": {
    "tags": []
   },
   "outputs": [],
   "source": [
    "y = np.array(df['Clean_Review'].values)"
   ]
  },
  {
   "cell_type": "code",
   "execution_count": 45,
   "id": "990117df-ed05-4bee-9711-af51fd785cf7",
   "metadata": {
    "tags": []
   },
   "outputs": [
    {
     "name": "stdout",
     "output_type": "stream",
     "text": [
      "(1000, 16) (1000,)\n"
     ]
    }
   ],
   "source": [
    "print(X.shape, y.shape)"
   ]
  },
  {
   "cell_type": "code",
   "execution_count": 46,
   "id": "cec796ca-33e9-42d8-a25a-6c47c8767236",
   "metadata": {
    "tags": []
   },
   "outputs": [],
   "source": [
    "X_train, X_test, y_train, y_test = train_test_split(padded_sequences,\n",
    "                                                    np.array(df.Sentiment),\n",
    "                                                    test_size=0.2,\n",
    "                                                    random_state=42)"
   ]
  },
  {
   "cell_type": "code",
   "execution_count": 47,
   "id": "bf9f3221-70a9-4df5-b88b-863d3ec0d00f",
   "metadata": {
    "tags": []
   },
   "outputs": [],
   "source": [
    "X_train, X_val, y_train, y_val = train_test_split(X_train, y_train, test_size=0.2, random_state=42)"
   ]
  },
  {
   "cell_type": "code",
   "execution_count": 48,
   "id": "78180123-085d-402c-b7ae-8b4fa25694ee",
   "metadata": {
    "tags": []
   },
   "outputs": [
    {
     "name": "stdout",
     "output_type": "stream",
     "text": [
      "(640, 16) (640,)\n"
     ]
    }
   ],
   "source": [
    "\n",
    "print(X_train.shape, y_train.shape)"
   ]
  },
  {
   "cell_type": "code",
   "execution_count": 49,
   "id": "f9626ef4-3921-49d1-85a6-11c9d71608de",
   "metadata": {
    "tags": []
   },
   "outputs": [],
   "source": [
    "pd.DataFrame(X_train).to_csv('X_train.csv')\n",
    "pd.DataFrame(X_test).to_csv('X_test.csv')\n",
    "pd.DataFrame(y_train).to_csv('y_train.csv')\n",
    "pd.DataFrame(y_test).to_csv('y_test.csv')"
   ]
  },
  {
   "cell_type": "code",
   "execution_count": null,
   "id": "dc09a40d-8a8d-4dc1-9a92-c5ad8e40388e",
   "metadata": {},
   "outputs": [],
   "source": []
  },
  {
   "cell_type": "code",
   "execution_count": 50,
   "id": "07e663dc-201d-4edb-b6cc-f0c4e86bf158",
   "metadata": {
    "tags": []
   },
   "outputs": [],
   "source": [
    "from sklearn.metrics import precision_score, recall_score, f1_score\n",
    "from sklearn.ensemble import RandomForestClassifier"
   ]
  },
  {
   "cell_type": "code",
   "execution_count": 51,
   "id": "438b6556-2af3-4336-9a73-b7e608b00ecf",
   "metadata": {
    "tags": []
   },
   "outputs": [],
   "source": [
    "def train_model(X_train, y_train):\n",
    "    model = RandomForestClassifier()  # You can use an appropriate model for your task\n",
    "    model.fit(X_train, y_train)\n",
    "    return model"
   ]
  },
  {
   "cell_type": "code",
   "execution_count": 52,
   "id": "d0f9edc3-6f9c-478f-815d-0cb246a331dc",
   "metadata": {
    "tags": []
   },
   "outputs": [],
   "source": [
    "model = train_model(X_train, y_train)"
   ]
  },
  {
   "cell_type": "code",
   "execution_count": 53,
   "id": "46a8d523-fc8f-459d-b2f7-f58fe70f6abc",
   "metadata": {
    "tags": []
   },
   "outputs": [
    {
     "name": "stdout",
     "output_type": "stream",
     "text": [
      "Precision: 0.71\n",
      "Recall: 0.51\n",
      "F1-Score: 0.60\n"
     ]
    }
   ],
   "source": [
    "# Make predictions on the test set\n",
    "predicted_labels = model.predict(X_test)\n",
    "\n",
    "# Calculate evaluation metrics\n",
    "precision = precision_score(y_test, predicted_labels)\n",
    "recall = recall_score(y_test, predicted_labels)\n",
    "f1 = f1_score(y_test, predicted_labels)\n",
    "\n",
    "# Print or store the results\n",
    "print(f\"Precision: {precision:.2f}\")\n",
    "print(f\"Recall: {recall:.2f}\")\n",
    "print(f\"F1-Score: {f1:.2f}\")"
   ]
  },
  {
   "cell_type": "code",
   "execution_count": null,
   "id": "701cecd3-e1bd-426b-a996-12b59c3a74d9",
   "metadata": {},
   "outputs": [],
   "source": []
  },
  {
   "cell_type": "code",
   "execution_count": 54,
   "id": "3df99a8f-34c9-406f-9763-1011f73bf7d5",
   "metadata": {
    "tags": []
   },
   "outputs": [
    {
     "name": "stdout",
     "output_type": "stream",
     "text": [
      "Size & shape of the training data set:\n",
      "Training data X values (reviews text) size =  10240  and shape =  (640, 16)\n",
      "Training data Y values (review ratings) size =  640  and shape =  (640,)\n",
      "Size & shape of the training data set:\n",
      "Training data X values (reviews text) size =  3200  and shape =  (200, 16)\n",
      "Training data Y values (review ratings) size =  200  and shape =  (200,)\n"
     ]
    }
   ],
   "source": [
    "print('Size & shape of the training data set:')\n",
    "print('Training data X values (reviews text) size = ',X_train.size, ' and shape = ', X_train.shape)\n",
    "print('Training data Y values (review ratings) size = ',y_train.size, ' and shape = ', y_train.shape)\n",
    "\n",
    "print('Size & shape of the training data set:')\n",
    "print('Training data X values (reviews text) size = ',X_test.size, ' and shape = ', X_test.shape)\n",
    "print('Training data Y values (review ratings) size = ',y_test.size, ' and shape = ', y_test.shape)"
   ]
  },
  {
   "cell_type": "code",
   "execution_count": 55,
   "id": "e5db3f5a-c082-441a-87e1-731dfd1b5b71",
   "metadata": {
    "tags": []
   },
   "outputs": [
    {
     "name": "stdout",
     "output_type": "stream",
     "text": [
      "Model: \"sequential_1\"\n",
      "_________________________________________________________________\n",
      " Layer (type)                Output Shape              Param #   \n",
      "=================================================================\n",
      " embedding_1 (Embedding)     (None, None, 8)           304896    \n",
      "                                                                 \n",
      " global_average_pooling1d_1  (None, 8)                 0         \n",
      "  (GlobalAveragePooling1D)                                       \n",
      "                                                                 \n",
      " dense_2 (Dense)             (None, 50)                450       \n",
      "                                                                 \n",
      " dense_3 (Dense)             (None, 1)                 51        \n",
      "                                                                 \n",
      "=================================================================\n",
      "Total params: 305397 (1.16 MB)\n",
      "Trainable params: 305397 (1.16 MB)\n",
      "Non-trainable params: 0 (0.00 Byte)\n",
      "_________________________________________________________________\n",
      "Epoch 1/80\n",
      "16/16 [==============================] - 2s 24ms/step - loss: 0.7073 - accuracy: 0.5000 - val_loss: 0.7039 - val_accuracy: 0.4531\n",
      "Epoch 2/80\n",
      "16/16 [==============================] - 0s 7ms/step - loss: 0.6930 - accuracy: 0.5137 - val_loss: 0.6920 - val_accuracy: 0.5469\n",
      "Epoch 3/80\n",
      "16/16 [==============================] - 0s 8ms/step - loss: 0.6928 - accuracy: 0.5000 - val_loss: 0.6901 - val_accuracy: 0.5469\n",
      "Epoch 4/80\n",
      "16/16 [==============================] - 0s 7ms/step - loss: 0.6921 - accuracy: 0.5000 - val_loss: 0.6906 - val_accuracy: 0.5469\n",
      "Epoch 5/80\n",
      "16/16 [==============================] - 0s 7ms/step - loss: 0.6902 - accuracy: 0.6484 - val_loss: 0.6905 - val_accuracy: 0.6250\n",
      "Epoch 6/80\n",
      "16/16 [==============================] - 0s 8ms/step - loss: 0.6877 - accuracy: 0.7070 - val_loss: 0.6887 - val_accuracy: 0.6406\n",
      "Epoch 7/80\n",
      "16/16 [==============================] - 0s 9ms/step - loss: 0.6856 - accuracy: 0.5879 - val_loss: 0.6883 - val_accuracy: 0.5391\n",
      "Epoch 8/80\n",
      "16/16 [==============================] - 0s 7ms/step - loss: 0.6795 - accuracy: 0.7461 - val_loss: 0.6819 - val_accuracy: 0.7188\n",
      "Epoch 9/80\n",
      "16/16 [==============================] - 0s 7ms/step - loss: 0.6748 - accuracy: 0.7227 - val_loss: 0.6774 - val_accuracy: 0.7109\n",
      "Epoch 10/80\n",
      "16/16 [==============================] - 0s 7ms/step - loss: 0.6687 - accuracy: 0.7402 - val_loss: 0.6762 - val_accuracy: 0.6562\n",
      "Epoch 11/80\n",
      "16/16 [==============================] - 0s 8ms/step - loss: 0.6600 - accuracy: 0.7539 - val_loss: 0.6707 - val_accuracy: 0.6797\n",
      "Epoch 12/80\n",
      "16/16 [==============================] - 0s 7ms/step - loss: 0.6508 - accuracy: 0.7676 - val_loss: 0.6671 - val_accuracy: 0.6641\n",
      "Epoch 13/80\n",
      "16/16 [==============================] - 0s 7ms/step - loss: 0.6415 - accuracy: 0.7988 - val_loss: 0.6610 - val_accuracy: 0.6797\n",
      "Epoch 14/80\n",
      "16/16 [==============================] - 0s 8ms/step - loss: 0.6314 - accuracy: 0.7773 - val_loss: 0.6570 - val_accuracy: 0.6719\n",
      "Epoch 15/80\n",
      "16/16 [==============================] - 0s 8ms/step - loss: 0.6188 - accuracy: 0.7988 - val_loss: 0.6491 - val_accuracy: 0.6797\n",
      "Epoch 16/80\n",
      "16/16 [==============================] - 0s 8ms/step - loss: 0.6059 - accuracy: 0.8242 - val_loss: 0.6427 - val_accuracy: 0.6797\n",
      "Epoch 17/80\n",
      "16/16 [==============================] - 0s 8ms/step - loss: 0.5930 - accuracy: 0.8418 - val_loss: 0.6347 - val_accuracy: 0.6875\n",
      "Epoch 18/80\n",
      "16/16 [==============================] - 0s 7ms/step - loss: 0.5776 - accuracy: 0.8438 - val_loss: 0.6294 - val_accuracy: 0.6875\n",
      "Epoch 19/80\n",
      "16/16 [==============================] - 0s 10ms/step - loss: 0.5621 - accuracy: 0.8613 - val_loss: 0.6206 - val_accuracy: 0.6953\n",
      "Epoch 20/80\n",
      "16/16 [==============================] - 0s 9ms/step - loss: 0.5454 - accuracy: 0.8691 - val_loss: 0.6124 - val_accuracy: 0.6953\n",
      "Epoch 21/80\n",
      "16/16 [==============================] - 0s 8ms/step - loss: 0.5288 - accuracy: 0.8594 - val_loss: 0.6088 - val_accuracy: 0.6719\n",
      "Epoch 22/80\n",
      "16/16 [==============================] - 0s 8ms/step - loss: 0.5106 - accuracy: 0.8789 - val_loss: 0.5951 - val_accuracy: 0.7266\n",
      "Epoch 23/80\n",
      "16/16 [==============================] - 0s 8ms/step - loss: 0.4907 - accuracy: 0.8945 - val_loss: 0.5871 - val_accuracy: 0.7266\n",
      "Epoch 24/80\n",
      "16/16 [==============================] - 0s 8ms/step - loss: 0.4714 - accuracy: 0.9062 - val_loss: 0.5801 - val_accuracy: 0.7109\n",
      "Epoch 25/80\n",
      "16/16 [==============================] - 0s 8ms/step - loss: 0.4513 - accuracy: 0.9141 - val_loss: 0.5693 - val_accuracy: 0.7344\n",
      "Epoch 26/80\n",
      "16/16 [==============================] - 0s 8ms/step - loss: 0.4314 - accuracy: 0.9297 - val_loss: 0.5617 - val_accuracy: 0.7344\n",
      "Epoch 27/80\n",
      "16/16 [==============================] - 0s 8ms/step - loss: 0.4112 - accuracy: 0.9297 - val_loss: 0.5534 - val_accuracy: 0.7422\n",
      "Epoch 28/80\n",
      "16/16 [==============================] - 0s 8ms/step - loss: 0.3914 - accuracy: 0.9355 - val_loss: 0.5442 - val_accuracy: 0.7422\n",
      "Epoch 29/80\n",
      "16/16 [==============================] - 0s 8ms/step - loss: 0.3724 - accuracy: 0.9492 - val_loss: 0.5372 - val_accuracy: 0.7422\n",
      "Epoch 30/80\n",
      "16/16 [==============================] - 0s 10ms/step - loss: 0.3530 - accuracy: 0.9453 - val_loss: 0.5285 - val_accuracy: 0.7578\n",
      "Epoch 31/80\n",
      "16/16 [==============================] - 0s 9ms/step - loss: 0.3345 - accuracy: 0.9492 - val_loss: 0.5191 - val_accuracy: 0.7656\n",
      "Epoch 32/80\n",
      "16/16 [==============================] - 0s 8ms/step - loss: 0.3168 - accuracy: 0.9570 - val_loss: 0.5156 - val_accuracy: 0.7500\n",
      "Epoch 33/80\n",
      "16/16 [==============================] - 0s 8ms/step - loss: 0.2997 - accuracy: 0.9590 - val_loss: 0.5072 - val_accuracy: 0.7578\n",
      "Epoch 34/80\n",
      "16/16 [==============================] - 0s 8ms/step - loss: 0.2837 - accuracy: 0.9570 - val_loss: 0.5025 - val_accuracy: 0.7422\n",
      "Epoch 35/80\n",
      "16/16 [==============================] - 0s 8ms/step - loss: 0.2694 - accuracy: 0.9668 - val_loss: 0.4926 - val_accuracy: 0.7734\n",
      "Epoch 36/80\n",
      "16/16 [==============================] - 0s 8ms/step - loss: 0.2552 - accuracy: 0.9590 - val_loss: 0.4929 - val_accuracy: 0.7422\n",
      "Epoch 37/80\n",
      "16/16 [==============================] - 0s 8ms/step - loss: 0.2408 - accuracy: 0.9727 - val_loss: 0.4826 - val_accuracy: 0.7578\n",
      "Epoch 38/80\n",
      "16/16 [==============================] - 0s 8ms/step - loss: 0.2266 - accuracy: 0.9727 - val_loss: 0.4858 - val_accuracy: 0.7344\n",
      "Epoch 39/80\n",
      "16/16 [==============================] - 0s 8ms/step - loss: 0.2136 - accuracy: 0.9707 - val_loss: 0.4782 - val_accuracy: 0.7500\n",
      "Epoch 40/80\n",
      "16/16 [==============================] - 0s 8ms/step - loss: 0.2017 - accuracy: 0.9746 - val_loss: 0.4718 - val_accuracy: 0.7578\n",
      "Epoch 41/80\n",
      "16/16 [==============================] - 0s 8ms/step - loss: 0.1909 - accuracy: 0.9844 - val_loss: 0.4694 - val_accuracy: 0.7578\n",
      "Epoch 42/80\n",
      "16/16 [==============================] - 0s 8ms/step - loss: 0.1802 - accuracy: 0.9863 - val_loss: 0.4682 - val_accuracy: 0.7500\n",
      "Epoch 43/80\n",
      "16/16 [==============================] - 0s 9ms/step - loss: 0.1704 - accuracy: 0.9863 - val_loss: 0.4670 - val_accuracy: 0.7578\n",
      "Epoch 44/80\n",
      "16/16 [==============================] - 0s 8ms/step - loss: 0.1615 - accuracy: 0.9863 - val_loss: 0.4625 - val_accuracy: 0.7656\n",
      "Epoch 45/80\n",
      "16/16 [==============================] - 0s 8ms/step - loss: 0.1526 - accuracy: 0.9863 - val_loss: 0.4629 - val_accuracy: 0.7656\n",
      "Epoch 46/80\n",
      "16/16 [==============================] - 0s 9ms/step - loss: 0.1442 - accuracy: 0.9902 - val_loss: 0.4610 - val_accuracy: 0.7656\n",
      "Epoch 47/80\n",
      "16/16 [==============================] - 0s 8ms/step - loss: 0.1371 - accuracy: 0.9902 - val_loss: 0.4583 - val_accuracy: 0.7656\n",
      "Epoch 48/80\n",
      "16/16 [==============================] - 0s 8ms/step - loss: 0.1291 - accuracy: 0.9922 - val_loss: 0.4595 - val_accuracy: 0.7656\n",
      "Epoch 49/80\n",
      "16/16 [==============================] - 0s 8ms/step - loss: 0.1229 - accuracy: 0.9922 - val_loss: 0.4612 - val_accuracy: 0.7500\n",
      "Epoch 50/80\n",
      "16/16 [==============================] - 0s 7ms/step - loss: 0.1160 - accuracy: 0.9922 - val_loss: 0.4575 - val_accuracy: 0.7656\n",
      "Epoch 51/80\n",
      "16/16 [==============================] - 0s 7ms/step - loss: 0.1102 - accuracy: 0.9941 - val_loss: 0.4556 - val_accuracy: 0.7734\n",
      "Epoch 52/80\n",
      "16/16 [==============================] - 0s 8ms/step - loss: 0.1043 - accuracy: 0.9941 - val_loss: 0.4588 - val_accuracy: 0.7656\n",
      "Epoch 53/80\n",
      "16/16 [==============================] - 0s 11ms/step - loss: 0.0989 - accuracy: 0.9922 - val_loss: 0.4597 - val_accuracy: 0.7656\n",
      "Epoch 54/80\n",
      "16/16 [==============================] - 0s 9ms/step - loss: 0.0939 - accuracy: 0.9941 - val_loss: 0.4581 - val_accuracy: 0.7656\n",
      "Epoch 55/80\n",
      "16/16 [==============================] - 0s 9ms/step - loss: 0.0892 - accuracy: 0.9961 - val_loss: 0.4589 - val_accuracy: 0.7734\n",
      "Epoch 56/80\n",
      "16/16 [==============================] - 0s 11ms/step - loss: 0.0848 - accuracy: 0.9961 - val_loss: 0.4597 - val_accuracy: 0.7734\n",
      "Epoch 57/80\n",
      "16/16 [==============================] - 0s 9ms/step - loss: 0.0807 - accuracy: 0.9961 - val_loss: 0.4606 - val_accuracy: 0.7734\n",
      "Epoch 58/80\n",
      "16/16 [==============================] - 0s 10ms/step - loss: 0.0767 - accuracy: 0.9961 - val_loss: 0.4621 - val_accuracy: 0.7812\n",
      "Epoch 59/80\n",
      "16/16 [==============================] - 0s 9ms/step - loss: 0.0729 - accuracy: 0.9980 - val_loss: 0.4649 - val_accuracy: 0.7812\n"
     ]
    }
   ],
   "source": [
    "# Define hyperparameters\n",
    "activation = 'sigmoid'\n",
    "loss = 'binary_crossentropy'\n",
    "optimizer = 'adam'  # or 'rmsprop'\n",
    "\n",
    "\n",
    "# Define early_stopping_monitor\n",
    "early_stopping_monitor = EarlyStopping(patience=8)\n",
    "\n",
    "# Define the model architecture\n",
    "model = Sequential([\n",
    "    Embedding(38112, 8, input_length=None),\n",
    "    GlobalAveragePooling1D(),\n",
    "    Dense(50, activation='sigmoid'),\n",
    "    Dense(1, activation='sigmoid')\n",
    "])\n",
    "\n",
    "# Compile the model\n",
    "model.compile(loss=loss, optimizer=optimizer, metrics=['accuracy'])\n",
    "\n",
    "# Print the model summary\n",
    "model.summary()\n",
    "\n",
    "# Train the model\n",
    "history = model.fit(X_train, y_train, batch_size=32, epochs=80,\n",
    "                    validation_split=0.2, callbacks=[early_stopping_monitor], verbose=True)"
   ]
  },
  {
   "cell_type": "code",
   "execution_count": 56,
   "id": "fc5b6ceb-1219-4a64-8f3d-e7b6005c817f",
   "metadata": {
    "tags": []
   },
   "outputs": [
    {
     "name": "stdout",
     "output_type": "stream",
     "text": [
      "7/7 [==============================] - 0s 2ms/step - loss: 0.4426 - accuracy: 0.8000\n",
      "Final Model Loss:  0.44264\n",
      "Final Model Accuracy:  80.0 %\n"
     ]
    }
   ],
   "source": [
    "score = model.evaluate(X_test, y_test, verbose=1)\n",
    "\n",
    "print('Final Model Loss: ', round(score[0],5))\n",
    "print('Final Model Accuracy: ', round(score[1]*100, 2),'%')"
   ]
  },
  {
   "cell_type": "code",
   "execution_count": 57,
   "id": "d9cc576e-7047-4a5a-9b39-aad7408aa190",
   "metadata": {
    "tags": []
   },
   "outputs": [
    {
     "data": {
      "image/png": "[encoded data removed]",
      "text/plain": [
       "<Figure size 1000x600 with 1 Axes>"
      ]
     },
     "metadata": {},
     "output_type": "display_data"
    },
    {
     "data": {
      "image/png": "[encoded data removed]",
      "text/plain": [
       "<Figure size 1000x600 with 1 Axes>"
      ]
     },
     "metadata": {},
     "output_type": "display_data"
    }
   ],
   "source": [
    "# Get the training history\n",
    "accuracy = history.history['accuracy']\n",
    "loss = history.history['loss']\n",
    "val_accuracy = history.history['val_accuracy']\n",
    "val_loss = history.history['val_loss']\n",
    "\n",
    "# Plot accuracy\n",
    "plt.figure(figsize=(10, 6))\n",
    "plt.plot(range(1, len(accuracy) + 1), accuracy, label='Training Accuracy')\n",
    "plt.plot(range(1, len(val_accuracy) + 1), val_accuracy, label='Validation Accuracy')\n",
    "plt.title('Model Accuracy')\n",
    "plt.xlabel('Epochs')\n",
    "plt.ylabel('Accuracy')\n",
    "plt.legend()\n",
    "plt.show()\n",
    "\n",
    "# Plot loss\n",
    "plt.figure(figsize=(10, 6))\n",
    "plt.plot(range(1, len(loss) + 1), loss, label='Training Loss')\n",
    "plt.plot(range(1, len(val_loss) + 1), val_loss, label='Validation Loss')\n",
    "plt.title('Model Loss')\n",
    "plt.xlabel('Epochs')\n",
    "plt.ylabel('Loss')\n",
    "plt.legend()\n",
    "plt.show()"
   ]
  },
  {
   "cell_type": "code",
   "execution_count": 58,
   "id": "724c9cd4-f1ab-4250-896d-b9bfe643554b",
   "metadata": {
    "tags": []
   },
   "outputs": [
    {
     "data": {
      "text/plain": [
       "<function matplotlib.pyplot.show(close=None, block=None)>"
      ]
     },
     "execution_count": 58,
     "metadata": {},
     "output_type": "execute_result"
    },
    {
     "data": {
      "image/png": "[encoded data removed]",
      "text/plain": [
       "<Figure size 1500x1500 with 2 Axes>"
      ]
     },
     "metadata": {},
     "output_type": "display_data"
    }
   ],
   "source": [
    "plt.figure(figsize=(15,15))\n",
    "\n",
    "plt.subplot(2,1,1)\n",
    "plt.plot(history.history['loss'], label='Training Loss')\n",
    "plt.plot(history.history['accuracy'], label='Training Accuracy')\n",
    "plt.xlabel('epochs')\n",
    "plt.legend()\n",
    "plt.title('Training Data -loss & accuracy')\n",
    "\n",
    "plt.subplot(2,1,2)\n",
    "plt.plot(history.history['val_loss'], label='Validation Loss')\n",
    "plt.plot(history.history['val_accuracy'], label='Validation Accuracy')\n",
    "plt.xlabel('epochs')\n",
    "plt.legend()\n",
    "plt.title('Validation Data -loss & accuracy')\n",
    "\n",
    "plt.show"
   ]
  },
  {
   "cell_type": "code",
   "execution_count": 59,
   "id": "c1da95b7-7767-4493-bc2b-c3643572b912",
   "metadata": {
    "tags": []
   },
   "outputs": [
    {
     "name": "stdout",
     "output_type": "stream",
     "text": [
      "7/7 [==============================] - 0s 2ms/step\n"
     ]
    },
    {
     "data": {
      "image/png": "[encoded data removed]",
      "text/plain": [
       "<Figure size 600x600 with 1 Axes>"
      ]
     },
     "metadata": {},
     "output_type": "display_data"
    }
   ],
   "source": [
    "predictions = model.predict(X_test)\n",
    "predictions = np.round(predictions, 0).astype(int)\n",
    "\n",
    "con_mat = confusion_matrix(y_test, predictions)\n",
    "sns.set(rc={'figure.figsize': (6, 6)})\n",
    "cmap = plt.cm.PuRd  \n",
    "sns.heatmap(con_mat, annot=True, fmt='d', cbar=False, cmap=cmap).set(ylabel='Actual', xlabel='Predictions')\n",
    "plt.show()"
   ]
  },
  {
   "cell_type": "code",
   "execution_count": 60,
   "id": "b747a8c3-d887-40f6-b245-d2479556da7d",
   "metadata": {},
   "outputs": [
    {
     "name": "stdout",
     "output_type": "stream",
     "text": [
      "7/7 [==============================] - 0s 2ms/step\n",
      "Test Loss: 0.4426\n",
      "Test Accuracy: 0.8000\n",
      "Precision: 0.8131\n",
      "Recall: 0.8131\n",
      "F1 Score: 0.8131\n",
      "Confusion Matrix:\n",
      "[[73 20]\n",
      " [20 87]]\n"
     ]
    }
   ],
   "source": [
    "loss, accuracy = model.evaluate(X_test, y_test, verbose=0)\n",
    "\n",
    "# Make predictions on the test set\n",
    "y_pred = (model.predict(X_test) > 0.5).astype(int)\n",
    "\n",
    "# Calculate additional evaluation metrics\n",
    "from sklearn.metrics import accuracy_score, precision_score, recall_score, f1_score, confusion_matrix\n",
    "\n",
    "accuracy = accuracy_score(y_test, y_pred)\n",
    "precision = precision_score(y_test, y_pred)\n",
    "recall = recall_score(y_test, y_pred)\n",
    "f1 = f1_score(y_test, y_pred)\n",
    "confusion = confusion_matrix(y_test, y_pred)\n",
    "\n",
    "print(f\"Test Loss: {loss:.4f}\")\n",
    "print(f\"Test Accuracy: {accuracy:.4f}\")\n",
    "print(f\"Precision: {precision:.4f}\")\n",
    "print(f\"Recall: {recall:.4f}\")\n",
    "print(f\"F1 Score: {f1:.4f}\")\n",
    "print(\"Confusion Matrix:\")\n",
    "print(confusion)"
   ]
  },
  {
   "cell_type": "code",
   "execution_count": 61,
   "id": "a490bfd3-817e-4a38-89b7-b6fb847d20d4",
   "metadata": {
    "tags": []
   },
   "outputs": [],
   "source": [
    "model.save('D213_trained_model.keras')"
   ]
  }
 ],
 "metadata": {
  "kernelspec": {
   "display_name": "Python 3 (ipykernel)",
   "language": "python",
   "name": "python3"
  },
  "language_info": {
   "codemirror_mode": {
    "name": "ipython",
    "version": 3
   },
   "file_extension": ".py",
   "mimetype": "text/x-python",
   "name": "python",
   "nbconvert_exporter": "python",
   "pygments_lexer": "ipython3",
   "version": "3.11.3"
  }
 },
 "nbformat": 4,
 "nbformat_minor": 5
}
